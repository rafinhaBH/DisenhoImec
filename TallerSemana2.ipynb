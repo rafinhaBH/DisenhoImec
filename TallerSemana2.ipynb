{
 "cells": [
  {
   "cell_type": "markdown",
   "metadata": {},
   "source": [
    "# Taller Semana 2 Disismec - Rafael Beltrán Hernández 201712170"
   ]
  },
  {
   "cell_type": "code",
   "execution_count": 1,
   "metadata": {},
   "outputs": [],
   "source": [
    "import scipy.stats as stats\n",
    "mu = 0.2508\n",
    "sigma = 0.0005\n",
    "incertidumbre = 0.0015\n",
    "# Limites superior e inferior\n",
    "sup=0.25 + incertidumbre\n",
    "inf= 0.25 - incertidumbre\n"
   ]
  },
  {
   "cell_type": "markdown",
   "metadata": {},
   "source": [
    "**Cálculos de Probabilidad Literal a.)** "
   ]
  },
  {
   "cell_type": "code",
   "execution_count": 6,
   "metadata": {},
   "outputs": [
    {
     "name": "stdout",
     "output_type": "stream",
     "text": [
      "La probabilidad de que estén en las especificaciones es de 0.91924122831152\n"
     ]
    }
   ],
   "source": [
    "# La idea son los menores al superior y mayores al inferior\n",
    "# a es la probabilidad de que sea menor al limite superior\n",
    "a=stats.norm.cdf(sup,mu,sigma) \n",
    "# b es la probabilidad de que sea mayor al limite inferior\n",
    "b=1- stats.norm.cdf(inf,mu,sigma)\n",
    "\n",
    "respuesta = a - (1-b)\n",
    "\n",
    "print('La probabilidad de que estén en las especificaciones es de %a' %(respuesta))"
   ]
  },
  {
   "cell_type": "markdown",
   "metadata": {},
   "source": [
    "** Respuesta Literal (b) **"
   ]
  },
  {
   "cell_type": "markdown",
   "metadata": {},
   "source": [
    "Debe tomarse un valor de 0.25 in"
   ]
  }
 ],
 "metadata": {
  "kernelspec": {
   "display_name": "Python 3",
   "language": "python",
   "name": "python3"
  },
  "language_info": {
   "codemirror_mode": {
    "name": "ipython",
    "version": 3
   },
   "file_extension": ".py",
   "mimetype": "text/x-python",
   "name": "python",
   "nbconvert_exporter": "python",
   "pygments_lexer": "ipython3",
   "version": "3.7.3"
  }
 },
 "nbformat": 4,
 "nbformat_minor": 2
}
