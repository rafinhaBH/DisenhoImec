{
 "metadata": {
  "language_info": {
   "codemirror_mode": {
    "name": "ipython",
    "version": 3
   },
   "file_extension": ".py",
   "mimetype": "text/x-python",
   "name": "python",
   "nbconvert_exporter": "python",
   "pygments_lexer": "ipython3",
   "version": "3.7.10"
  },
  "orig_nbformat": 2,
  "kernelspec": {
   "name": "python3710jvsc74a57bd08f17f36499023591bbd5fcb8b994b826ae0b976ae61cbd0841fcebb40d2b958c",
   "display_name": "Python 3.7.10 64-bit ('base': conda)"
  }
 },
 "nbformat": 4,
 "nbformat_minor": 2,
 "cells": [
  {
   "source": [
    "Rafael Beltrán Hernández"
   ],
   "cell_type": "markdown",
   "metadata": {}
  },
  {
   "cell_type": "code",
   "execution_count": 1,
   "metadata": {},
   "outputs": [],
   "source": [
    "import numpy as np"
   ]
  },
  {
   "source": [
    "# Tubo Presurizado de varios materiales"
   ],
   "cell_type": "markdown",
   "metadata": {}
  },
  {
   "source": [
    "Como $r > 5t$ se puede utilizar el modelo de pared delgada, de tal manera que el esfuerzo $\\sigma$ se puede expresar como $\\sigma = Pr/2t$. Entonces la presión máxima se puede establecer como:\n",
    "\\begin{equation}\n",
    "    P_{max} = \\frac{2tK_{ic}}{\\sqrt{\\pi a}}\n",
    "\\end{equation}"
   ],
   "cell_type": "markdown",
   "metadata": {}
  },
  {
   "cell_type": "code",
   "execution_count": 2,
   "metadata": {},
   "outputs": [
    {
     "output_type": "stream",
     "name": "stdout",
     "text": [
      "La presión máxima para el acero es de 4.863904282654267 MPa\nLa presión máxima para el titanio es de 9.423814547642644 MPa\n"
     ]
    }
   ],
   "source": [
    "t = 0.25 * 0.0254 # De in a m\n",
    "d = 20 * 0.0254 \n",
    "r = d/2\n",
    "a = 5/1000\n",
    "sy_acero = 1172 # MPa\n",
    "sy_titanio = 878 # MPa\n",
    "k_acero = 48 # MPa √m\n",
    "k_titanio = 93 #MPa √m\n",
    "presion = lambda k: 2*t*k/(np.sqrt(np.pi*a)) # La funcion que nos da la presión máxima\n",
    "print('La presión máxima para el acero es de',presion(k_acero),'MPa')\n",
    "print('La presión máxima para el titanio es de',presion(k_titanio),'MPa')"
   ]
  },
  {
   "source": [
    "Para las condiciones dadas de geometría, se deduce que el material que otorga mayor presión interna máxima es el titanio"
   ],
   "cell_type": "markdown",
   "metadata": {}
  },
  {
   "source": [
    "# Placa en tension longitudinal"
   ],
   "cell_type": "markdown",
   "metadata": {}
  },
  {
   "source": [
    "* Fallo por fluencia\n",
    "\n",
    "Para el fallo por fluencia simplemente usamos la ecuacion básica de esfuerzo normal, $\\sigma = F/A$ y se calcula la carga máxima para este criterio usando el esfuerzo de fluencia"
   ],
   "cell_type": "markdown",
   "metadata": {}
  },
  {
   "cell_type": "code",
   "execution_count": 3,
   "metadata": {},
   "outputs": [
    {
     "output_type": "stream",
     "name": "stdout",
     "text": [
      "La carga máxima por fluencia es de 5120 ksi\n"
     ]
    }
   ],
   "source": [
    "A = 8*4 #in^2\n",
    "sy = 160 # ksi \n",
    "k = 70 # ksi √in \n",
    "a = 0.625/2 #in\n",
    "print('La carga máxima por fluencia es de',A*sy,'ksi')"
   ]
  },
  {
   "source": [
    "* Mecánica de la fractura\n",
    "\n",
    "Para este tipo de falla nos guimamos en la expresión de esfuerzo y tenacidad críticos, tomando el parámetro $\\beta$ como 1:\n",
    "\n",
    "\\begin{equation}\n",
    "    k = \\sigma \\sqrt{\\pi a}\n",
    "\\end{equation}\n",
    "\n",
    "Primero, se calcula el esfuerzo utilizando esta fórmula y a partir de ahi se encuentra el valor de la carga."
   ],
   "cell_type": "markdown",
   "metadata": {}
  },
  {
   "cell_type": "code",
   "execution_count": 4,
   "metadata": {},
   "outputs": [
    {
     "output_type": "stream",
     "name": "stdout",
     "text": [
      "El esfuerzo es de 70.64771061656448 ksi\nLa carga crítica por falla de fractura es de 2260.7267397300634 ksi\n"
     ]
    }
   ],
   "source": [
    "sigma = k/np.sqrt(np.pi * a)\n",
    "print('El esfuerzo es de',sigma,'ksi')\n",
    "carga = sigma*A\n",
    "print('La carga crítica por falla de fractura es de',carga,'ksi')"
   ]
  },
  {
   "source": [
    "* Discusion\n",
    "\n",
    "De los resultados vistos se puede notar el hecho de que la carga crítica de falla es menor en el caso de las grietas, como se afirma en el libro de Shigley, en el que se afirma que las fallas por fluencia dan esfuerzos más altos que por mecánica de la fractura. "
   ],
   "cell_type": "markdown",
   "metadata": {}
  },
  {
   "source": [
    "# Gancho de Acero"
   ],
   "cell_type": "markdown",
   "metadata": {}
  }
 ]
}