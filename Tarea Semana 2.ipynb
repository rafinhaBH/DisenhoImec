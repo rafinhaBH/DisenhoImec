{
 "metadata": {
  "language_info": {
   "codemirror_mode": {
    "name": "ipython",
    "version": 3
   },
   "file_extension": ".py",
   "mimetype": "text/x-python",
   "name": "python",
   "nbconvert_exporter": "python",
   "pygments_lexer": "ipython3",
   "version": "3.7.3-final"
  },
  "orig_nbformat": 2,
  "kernelspec": {
   "name": "python3",
   "display_name": "Python 3",
   "language": "python"
  }
 },
 "nbformat": 4,
 "nbformat_minor": 2,
 "cells": [
  {
   "source": [
    "Rafael Beltran Hernandez"
   ],
   "cell_type": "markdown",
   "metadata": {}
  },
  {
   "source": [
    "# Pregunta"
   ],
   "cell_type": "markdown",
   "metadata": {}
  },
  {
   "source": [
    "a) Debido a que el elemento (2) y el elemento (6) son de ajuste H y h respectivamente, se tiene que el ajuste único es de 68 H7/h6 "
   ],
   "cell_type": "markdown",
   "metadata": {}
  },
  {
   "cell_type": "code",
   "execution_count": 2,
   "metadata": {},
   "outputs": [
    {
     "output_type": "stream",
     "name": "stdout",
     "text": [
      "11\nLos juegos máximos y mínimos son 30 y 0\n"
     ]
    }
   ],
   "source": [
    "# Tipo de Ajuste, se restan las tolerancias para un eje de 68 mm\n",
    "dif= 30 - 19\n",
    "print(dif)\n",
    "# Juegos\n",
    "juego_max =30 - 0\n",
    "juego_min = 0\n",
    "print('Los juegos máximos y mínimos son %a y %a' %(juego_max,juego_min))"
   ]
  },
  {
   "source": [
    "Como la diferencia de tolerancias es positiva, es un ajuste sin interferencia "
   ],
   "cell_type": "markdown",
   "metadata": {}
  },
  {
   "source": [
    "b) De acuerdo con la tabla del material de apoyo, se tiene que usar un ajuste 40H7/n6"
   ],
   "cell_type": "markdown",
   "metadata": {}
  },
  {
   "source": [
    "# Pregunta"
   ],
   "cell_type": "markdown",
   "metadata": {}
  },
  {
   "cell_type": "code",
   "execution_count": 3,
   "metadata": {},
   "outputs": [],
   "source": [
    "# Declaración de variables\n",
    "D = 40 # Diámetro Base\n",
    "desv_hueco = (25,0)\n",
    "desv_eje = (-9,-25)"
   ]
  },
  {
   "source": [
    "Juegos Máximos y mínimos del ajuste"
   ],
   "cell_type": "markdown",
   "metadata": {}
  },
  {
   "cell_type": "code",
   "execution_count": 4,
   "metadata": {},
   "outputs": [
    {
     "output_type": "stream",
     "name": "stdout",
     "text": [
      "Los juegos máximos y mínimos son 50 y -9 µm\n"
     ]
    }
   ],
   "source": [
    "\n",
    "juego_max = 25 - (-25)\n",
    "juego_min = -9\n",
    "print('Los juegos máximos y mínimos son %a y %a µm' %(juego_max,juego_min))"
   ]
  },
  {
   "source": [
    "Diametros máximos y mínimos del eje y hueco"
   ],
   "cell_type": "markdown",
   "metadata": {}
  },
  {
   "cell_type": "code",
   "execution_count": 5,
   "metadata": {},
   "outputs": [
    {
     "output_type": "stream",
     "name": "stdout",
     "text": [
      "Los diametros del hueco en mm son (65, 40)\nLos diametros del eje en mm son (31, 15)\n"
     ]
    }
   ],
   "source": [
    "diametros_hueco=(D+desv_hueco[0],D+desv_hueco[1])\n",
    "diametros_eje = (D + desv_eje[0], D + desv_eje[1])\n",
    "\n",
    "print('Los diametros del hueco en mm son' ,diametros_hueco)\n",
    "print('Los diametros del eje en mm son' ,diametros_eje)"
   ]
  },
  {
   "source": [
    "# Pregunta"
   ],
   "cell_type": "markdown",
   "metadata": {}
  },
  {
   "cell_type": "code",
   "execution_count": 6,
   "metadata": {},
   "outputs": [],
   "source": [
    "# Declaracion de variables\n",
    "s_carga = 10 # En %\n",
    "s_diametro = 5\n",
    "s_falla = 15\n",
    "\n",
    "# el coeficiente del esfuerzo es\n",
    " \n",
    "c_sigma = ( (1.1) / ( 0.95**2) )\n",
    "\n",
    "# Coeficiente factor de seguridad \n",
    "c_n = 0.85\n",
    "\n",
    "#factor de segudidad mínimo\n",
    "\n",
    "n_min = c_sigma / c_n\n"
   ]
  },
  {
   "source": [
    "** Procedimiento Matematico **"
   ],
   "cell_type": "markdown",
   "metadata": {}
  },
  {
   "source": [
    "El esfuerzo normal máximo está dado por:\n",
    "\\begin{equation}\n",
    "    \\sigma_{max} = \\frac{P_{max}}{A_min}  = 1.22 \\sigma\n",
    "\\end{equation}"
   ],
   "cell_type": "markdown",
   "metadata": {}
  },
  {
   "source": [
    "El factor de seguridad mínimo se da como\n",
    "\\begin{equation}\n",
    "    n_{min} = \\frac{S_min}{\\sigma_max} = \\frac{1.22}{0.85} = 1.44\n",
    "\\end{equation}"
   ],
   "cell_type": "markdown",
   "metadata": {}
  },
  {
   "source": [
    "# Pregunta"
   ],
   "cell_type": "markdown",
   "metadata": {}
  },
  {
   "source": [
    "A continuación se almacenan los datos"
   ],
   "cell_type": "markdown",
   "metadata": {}
  },
  {
   "cell_type": "code",
   "execution_count": 7,
   "metadata": {},
   "outputs": [
    {
     "output_type": "stream",
     "name": "stdout",
     "text": [
      "La los valores de promedio y desviación estándar son: 98.26470588235294 4.282720572455095\n"
     ]
    }
   ],
   "source": [
    "import numpy as np\n",
    "S = np.array([93,95,97,99,101,103,105,107,109,111])\n",
    "f = np.array([19,25,38,17,12,10,5,4,4,2])\n",
    "prom = np.average(S, weights= f) # Calculo del Promedio ponderado\n",
    "stdev= np.sqrt( np.average((S - prom)**2, weights= f) )\n",
    "print('La los valores de promedio y desviación estándar son:',prom,stdev)"
   ]
  },
  {
   "source": [
    "Cálculos de distribución normal:\n"
   ],
   "cell_type": "markdown",
   "metadata": {}
  },
  {
   "cell_type": "code",
   "execution_count": 8,
   "metadata": {},
   "outputs": [
    {
     "output_type": "stream",
     "name": "stdout",
     "text": [
      "88.30160798351106\n"
     ]
    }
   ],
   "source": [
    "import scipy.stats as stats\n",
    "respuesta = stats.norm.ppf(0.01,prom,stdev)\n",
    "print(respuesta)"
   ]
  },
  {
   "source": [
    "De acuerdo con el resultado obtenido por la inversa de la distribución normal, se tiene que el valor correspondiente es de 88.3"
   ],
   "cell_type": "markdown",
   "metadata": {}
  },
  {
   "source": [
    "# Pregunta"
   ],
   "cell_type": "markdown",
   "metadata": {}
  },
  {
   "cell_type": "code",
   "execution_count": 16,
   "metadata": {},
   "outputs": [
    {
     "output_type": "stream",
     "name": "stdout",
     "text": [
      "2.3263478740408408\n"
     ]
    }
   ],
   "source": [
    "# Desviación factor de seguridad\n",
    "s_T = 145 / 1500 # Desviación del torque porcentual\n",
    "s_s = 23.5 / 312 # Desviación porcentual del esfuerzo de fluencia\n",
    "s_n = np.sqrt(s_T**2 + s_s**2) # desviación del factor de seguridad\n",
    "# z es el valor de la distribucion normal estándar \n",
    "z = stats.norm.ppf(0.99)\n",
    "print(z)\n",
    "# Carga y esfuerzo promedios\n",
    "T = 1500\n",
    "S = 312e+6\n"
   ]
  },
  {
   "source": [
    "Teniento en cuenta que estamos tomando una distribución normal estándar igual a una probabilidad $P_N = 0.99$ y tomando el $z$ de la inversa de esta distribución, $z=2.32$. Entonces la expresión del valor medio del factor de seguridad $\\bar{n}$ es:\n",
    "\n",
    "\\begin{equation}\n",
    "    \\bar{n} = \\frac{\\bar{S_y}}{\\tau_{max}} \\quad \\therefore \\quad \\bar{n} = \\frac{\\pi  \\bar{S_y}  d^3}{16\\bar{T}}\n",
    "\\end{equation}\n",
    "\n",
    "Como encontramos el valor de $z$ tomando una estándar, el promedio tiende a cero. El valor del diámetro en función de la incertidumbre o desviación estándar, $z$, $\\bar{T}$ y $\\bar{S_y}$\n",
    "\n",
    "\\begin{equation}\n",
    "    z \\sigma = \\frac{\\pi  \\bar{S_y} d^3}{16 \\bar{T}} \\quad \\therefore \\quad d = \\sqrt[3]{ \\frac{16 \\bar{T} z \\sigma }{\\pi \\bar{S_y}}   }\n",
    "\\end{equation}\n"
   ],
   "cell_type": "markdown",
   "metadata": {}
  },
  {
   "cell_type": "code",
   "execution_count": 17,
   "metadata": {},
   "outputs": [
    {
     "output_type": "stream",
     "name": "stdout",
     "text": [
      "El diámetro es en metros 0.019111466607380046\n"
     ]
    }
   ],
   "source": [
    "# Cálculos\n",
    "\n",
    "d = ( (16*T * z * s_n)/(np.pi * S) )**(1/3)\n",
    "\n",
    "print('El diámetro es en metros',d)\n"
   ]
  },
  {
   "source": [
    "Una vez calculado el díametro y con el valor del factor de seguridad promedio, para que "
   ],
   "cell_type": "markdown",
   "metadata": {}
  }
 ]
}