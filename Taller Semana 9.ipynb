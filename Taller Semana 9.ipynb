{
 "metadata": {
  "language_info": {
   "codemirror_mode": {
    "name": "ipython",
    "version": 3
   },
   "file_extension": ".py",
   "mimetype": "text/x-python",
   "name": "python",
   "nbconvert_exporter": "python",
   "pygments_lexer": "ipython3",
   "version": "3.7.10"
  },
  "orig_nbformat": 2,
  "kernelspec": {
   "name": "python3710jvsc74a57bd08f17f36499023591bbd5fcb8b994b826ae0b976ae61cbd0841fcebb40d2b958c",
   "display_name": "Python 3.7.10 64-bit ('base': conda)"
  }
 },
 "nbformat": 4,
 "nbformat_minor": 2,
 "cells": [
  {
   "cell_type": "code",
   "execution_count": 4,
   "metadata": {},
   "outputs": [],
   "source": [
    "import sympy as sp\n",
    "import stressTransformations as s\n",
    "import numpy as np"
   ]
  },
  {
   "cell_type": "code",
   "execution_count": 13,
   "metadata": {},
   "outputs": [],
   "source": [
    "Fa,Fc = 300, 12*300/(5*np.tan(np.radians(20)))\n",
    "# Ecuaciones\n",
    "oy,oz,by,bz = sp.symbols('oy oz by bz')\n",
    "e1 = oy + Fa*np.cos(np.radians(20)) + by - Fc*np.sin(np.radians(20)) #fuerzas en y igual a cero\n",
    "e2 = oz - Fa*np.sin(np.radians(20)) + bz + Fc*np.cos(np.radians(20)) # Fuerzas en z igual a cero\n",
    "e3 = 20*Fa*np.sin(np.radians(20)) - 36*bz - 46*Fc*np.cos(np.radians(20)) # Momentos O_y\n",
    "e4 = 20*Fa*np.cos(np.radians(20)) + 36*by - 46*Fc*np.cos(np.radians(20)) # Momentos O_z\n",
    "sols = sp.nsolve((e1,e2,e3,e4),(oy,oz,by,bz),(1,1,1,1))\n",
    "sols\n",
    "Oy,Oz,By,Bz = [float(i) for i in sols]"
   ]
  },
  {
   "cell_type": "code",
   "execution_count": 16,
   "metadata": {},
   "outputs": [
    {
     "output_type": "execute_result",
     "data": {
      "text/plain": [
       "Matrix([\n",
       "[-1823.95517876269],\n",
       "[  561.95953714424],\n",
       "[ 2218.62607949277],\n",
       "[-2318.23815906948]])"
      ],
      "text/latex": "$\\displaystyle \\left[\\begin{matrix}-1823.95517876269\\\\561.95953714424\\\\2218.62607949277\\\\-2318.23815906948\\end{matrix}\\right]$"
     },
     "metadata": {},
     "execution_count": 16
    }
   ],
   "source": [
    "sols"
   ]
  },
  {
   "cell_type": "code",
   "execution_count": 20,
   "metadata": {},
   "outputs": [
    {
     "output_type": "execute_result",
     "data": {
      "text/plain": [
       "62060.0367831299*sqrt(0.00361271812353898/r**6 + r**(-8)) - 17142.8571428571"
      ],
      "text/latex": "$\\displaystyle 62060.0367831299 \\sqrt{\\frac{0.00361271812353898}{r^{6}} + \\frac{1}{r^{8}}} - 17142.8571428571$"
     },
     "metadata": {},
     "execution_count": 20
    }
   ],
   "source": [
    "sy = 60000\n",
    "n = 3.5\n",
    "r = sp.Symbol('r')\n",
    "I = np.pi*(r**4)/4\n",
    "J = 2*I\n",
    "sx = 36*1542.04/I\n",
    "sz = 36*548/I\n",
    "tau = Fa*np.cos(np.radians(20))*12*r/J\n",
    "# Para la teoría von Misses\n",
    "vm = sp.sqrt(sx**2 - sx*sz + sz**2 +3*(tau**2)) - sy/n\n",
    "vm"
   ]
  },
  {
   "cell_type": "code",
   "execution_count": null,
   "metadata": {},
   "outputs": [],
   "source": [
    "# Para "
   ]
  }
 ]
}