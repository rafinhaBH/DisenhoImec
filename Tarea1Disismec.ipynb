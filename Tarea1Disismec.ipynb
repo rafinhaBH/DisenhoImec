{
 "metadata": {
  "language_info": {
   "codemirror_mode": {
    "name": "ipython",
    "version": 3
   },
   "file_extension": ".py",
   "mimetype": "text/x-python",
   "name": "python",
   "nbconvert_exporter": "python",
   "pygments_lexer": "ipython3",
   "version": "3.7.3-final"
  },
  "orig_nbformat": 2,
  "kernelspec": {
   "name": "python3",
   "display_name": "Python 3",
   "language": "python"
  }
 },
 "nbformat": 4,
 "nbformat_minor": 2,
 "cells": [
  {
   "cell_type": "code",
   "execution_count": 2,
   "metadata": {},
   "outputs": [
    {
     "output_type": "stream",
     "name": "stdout",
     "text": [
      "0.99855\n_________\n[0.99405, 0.99855, 0.99455]\n"
     ]
    }
   ],
   "source": [
    "import confiabilidade as cf\n",
    "a= 0.95\n",
    "b= 0.99\n",
    "c= 0.9\n",
    "AB= cf.serie( (a,b) )\n",
    "AB_C = cf.paralelo(  (AB,c) )\n",
    "\n",
    "AC= cf.serie( (a,c) )\n",
    "AC_B = cf.paralelo( (AC,b) )\n",
    "\n",
    "BC= cf.serie( (b,c) )\n",
    "BC_A = cf.paralelo(  (BC,a)  )\n",
    "\n",
    "print(max([AB_C,AC_B,BC_A]))\n",
    "print('_________')\n",
    "print([AB_C,AC_B,BC_A])"
   ]
  },
  {
   "cell_type": "code",
   "execution_count": 3,
   "metadata": {},
   "outputs": [
    {
     "output_type": "execute_result",
     "data": {
      "text/plain": [
       "0.9405"
      ]
     },
     "metadata": {},
     "execution_count": 3
    }
   ],
   "source": [
    "a*b"
   ]
  },
  {
   "cell_type": "code",
   "execution_count": 4,
   "metadata": {},
   "outputs": [
    {
     "output_type": "stream",
     "name": "stdout",
     "text": [
      "0.7763932022500211\n0.8811317734879506\n"
     ]
    }
   ],
   "source": [
    "RR= 1- (0.05)**(1/2)\n",
    "print(RR)\n",
    "R=RR**(1/2)\n",
    "print(R)"
   ]
  },
  {
   "cell_type": "code",
   "execution_count": 5,
   "metadata": {},
   "outputs": [
    {
     "output_type": "stream",
     "name": "stdout",
     "text": [
      "0.8831760866327847\n"
     ]
    }
   ],
   "source": [
    "import math\n",
    "print(math.sqrt(0.78))"
   ]
  },
  {
   "cell_type": "code",
   "execution_count": 8,
   "metadata": {},
   "outputs": [
    {
     "output_type": "stream",
     "name": "stdout",
     "text": [
      "271.2525857518732\n166.66666666666666\nLa pieza no esta bajo regulaciones\n"
     ]
    }
   ],
   "source": [
    "F=2700 # Fuerza máxima\n",
    "r= 1.78e-3 # Radio mínimo en m\n",
    "A= math.pi * (r**2)\n",
    "sigma=F/A # Esfuerzo máximo\n",
    "print(sigma/1000000) # Imprime el esfuerzo máximo en MPa\n",
    "sigma_p = 500 / 3 # Calculo del esfuerzo permisible con Sy, porque no se permiten deformaciones plásticas\n",
    "print(sigma_p)\n",
    "if sigma_p > sigma:\n",
    "    print('La pieza esta bajo regulaciones')\n",
    "else:\n",
    "    print('La pieza no esta bajo regulaciones')\n"
   ]
  },
  {
   "cell_type": "code",
   "execution_count": null,
   "metadata": {},
   "outputs": [],
   "source": []
  }
 ]
}